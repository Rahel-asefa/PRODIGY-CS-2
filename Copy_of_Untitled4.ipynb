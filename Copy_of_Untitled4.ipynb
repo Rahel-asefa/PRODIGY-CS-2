{
  "cells": [
    {
      "cell_type": "markdown",
      "metadata": {
        "id": "view-in-github",
        "colab_type": "text"
      },
      "source": [
        "<a href=\"https://colab.research.google.com/github/Rahel-asefa/PRODIGY-CS-2/blob/main/Copy_of_Untitled4.ipynb\" target=\"_parent\"><img src=\"https://colab.research.google.com/assets/colab-badge.svg\" alt=\"Open In Colab\"/></a>"
      ]
    },
    {
      "cell_type": "code",
      "execution_count": null,
      "metadata": {
        "colab": {
          "base_uri": "https://localhost:8080/"
        },
        "id": "g3_39Yub-oNR",
        "outputId": "530fd68f-74be-41a4-a453-e43de4f62792"
      },
      "outputs": [
        {
          "name": "stdout",
          "output_type": "stream",
          "text": [
            "Choose an option (1: Encrypt, 2: Decrypt, 0: Exit): 1\n",
            "Enter the message to encrypt: mama\n",
            "Enter the shift value: 2\n",
            "Encrypted Message: ococ\n",
            "Choose an option (1: Encrypt, 2: Decrypt, 0: Exit): 2\n",
            "Enter the message to decrypt: mama\n",
            "Enter the shift value: 5\n",
            "Decrypted Message: hvhv\n",
            "Choose an option (1: Encrypt, 2: Decrypt, 0: Exit): 0\n"
          ]
        }
      ],
      "source": [
        "def encrypt(text, shift):\n",
        "    encrypted_text = \"\"\n",
        "    for char in text:\n",
        "        if char.isalpha():\n",
        "            shift_amount = shift % 26\n",
        "            start = ord('A') if char.isupper() else ord('a')\n",
        "            encrypted_text += chr(start + (ord(char) - start + shift_amount) % 26)\n",
        "        else:\n",
        "            encrypted_text += char\n",
        "    return encrypted_text\n",
        "\n",
        "def decrypt(text, shift):\n",
        "    return encrypt(text, -shift)\n",
        "\n",
        "def main():\n",
        "    while True:\n",
        "        choice = input(\"Choose an option (1: Encrypt, 2: Decrypt, 0: Exit): \")\n",
        "        if choice == '1':\n",
        "            message = input(\"Enter the message to encrypt: \")\n",
        "            shift = int(input(\"Enter the shift value: \"))\n",
        "            encrypted_message = encrypt(message, shift)\n",
        "            print(\"Encrypted Message:\", encrypted_message)\n",
        "        elif choice == '2':\n",
        "            message = input(\"Enter the message to decrypt: \")\n",
        "            shift = int(input(\"Enter the shift value: \"))\n",
        "            decrypted_message = decrypt(message, shift)\n",
        "            print(\"Decrypted Message:\", decrypted_message)\n",
        "        elif choice == '0':\n",
        "            break\n",
        "        else:\n",
        "            print(\"Invalid choice. Please select again.\")\n",
        "\n",
        "def encrypt(text, shift):\n",
        "    encrypted_text = \"\"\n",
        "    for char in text:\n",
        "        if char.isalpha():\n",
        "            shift_amount = shift % 26\n",
        "            start = ord('A') if char.isupper() else ord('a')\n",
        "            encrypted_text += chr(start + (ord(char) - start + shift_amount) % 26)\n",
        "        else:\n",
        "            encrypted_text += char\n",
        "    return encrypted_text\n",
        "\n",
        "def decrypt(text, shift):\n",
        "    return encrypt(text, -shift)\n",
        "\n",
        "def main():\n",
        "    while True:\n",
        "        choice = input(\"Choose an option (1: Encrypt, 2: Decrypt, 0: Exit): \")\n",
        "        if choice == '1':\n",
        "            message = input(\"Enter the message to encrypt: \")\n",
        "            shift = int(input(\"Enter the shift value: \"))\n",
        "            encrypted_message = encrypt(message, shift)\n",
        "            print(\"Encrypted Message:\", encrypted_message)\n",
        "        elif choice == '2':\n",
        "            message = input(\"Enter the message to decrypt: \")\n",
        "            shift = int(input(\"Enter the shift value: \"))\n",
        "            decrypted_message = decrypt(message, shift)\n",
        "            print(\"Decrypted Message:\", decrypted_message)\n",
        "        elif choice == '0':\n",
        "            break\n",
        "        else:\n",
        "            print(\"Invalid choice. Please select again.\")\n",
        "\n",
        "if __name__ == \"__main__\":\n",
        "    main()"
      ]
    }
  ],
  "metadata": {
    "colab": {
      "provenance": [],
      "authorship_tag": "ABX9TyNWjWq/2ArUe0PyfvKqdzKD",
      "include_colab_link": true
    },
    "kernelspec": {
      "display_name": "Python 3",
      "name": "python3"
    },
    "language_info": {
      "name": "python"
    }
  },
  "nbformat": 4,
  "nbformat_minor": 0
}